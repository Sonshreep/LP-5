{
 "cells": [
  {
   "cell_type": "code",
   "execution_count": 1,
   "id": "4037a37a-043c-4fc4-9d99-369ea83fbd23",
   "metadata": {
    "tags": []
   },
   "outputs": [],
   "source": [
    "import tensorflow as tf\n",
    "import numpy as np\n",
    "import pandas as pd\n",
    "import matplotlib.pyplot as plt\n",
    "%matplotlib inline"
   ]
  },
  {
   "cell_type": "code",
   "execution_count": 16,
   "id": "038f2ae2-22b5-45cb-8d3b-b0a3e48ebcef",
   "metadata": {
    "tags": []
   },
   "outputs": [],
   "source": [
    "from sklearn.model_selection import train_test_split\n",
    "from sklearn.compose import make_column_transformer\n",
    "from sklearn.preprocessing import StandardScaler"
   ]
  },
  {
   "cell_type": "code",
   "execution_count": 3,
   "id": "d2786c2d-eff7-4112-b06c-e87bdbefd757",
   "metadata": {
    "tags": []
   },
   "outputs": [],
   "source": [
    "df = pd.read_csv('Boston-house-price-data.csv')"
   ]
  },
  {
   "cell_type": "code",
   "execution_count": 4,
   "id": "9e939841-6a09-4875-a66a-bf8cb4fa3cd8",
   "metadata": {
    "tags": []
   },
   "outputs": [
    {
     "data": {
      "text/html": [
       "<div>\n",
       "<style scoped>\n",
       "    .dataframe tbody tr th:only-of-type {\n",
       "        vertical-align: middle;\n",
       "    }\n",
       "\n",
       "    .dataframe tbody tr th {\n",
       "        vertical-align: top;\n",
       "    }\n",
       "\n",
       "    .dataframe thead th {\n",
       "        text-align: right;\n",
       "    }\n",
       "</style>\n",
       "<table border=\"1\" class=\"dataframe\">\n",
       "  <thead>\n",
       "    <tr style=\"text-align: right;\">\n",
       "      <th></th>\n",
       "      <th>CRIM</th>\n",
       "      <th>ZN</th>\n",
       "      <th>INDUS</th>\n",
       "      <th>CHAS</th>\n",
       "      <th>NOX</th>\n",
       "      <th>RM</th>\n",
       "      <th>AGE</th>\n",
       "      <th>DIS</th>\n",
       "      <th>RAD</th>\n",
       "      <th>TAX</th>\n",
       "      <th>PTRATIO</th>\n",
       "      <th>B</th>\n",
       "      <th>LSTAT</th>\n",
       "      <th>MEDV</th>\n",
       "    </tr>\n",
       "  </thead>\n",
       "  <tbody>\n",
       "    <tr>\n",
       "      <th>0</th>\n",
       "      <td>0.00632</td>\n",
       "      <td>18.0</td>\n",
       "      <td>2.31</td>\n",
       "      <td>0</td>\n",
       "      <td>0.538</td>\n",
       "      <td>6.575</td>\n",
       "      <td>65.2</td>\n",
       "      <td>4.0900</td>\n",
       "      <td>1</td>\n",
       "      <td>296.0</td>\n",
       "      <td>15.3</td>\n",
       "      <td>396.90</td>\n",
       "      <td>4.98</td>\n",
       "      <td>24.0</td>\n",
       "    </tr>\n",
       "    <tr>\n",
       "      <th>1</th>\n",
       "      <td>0.02731</td>\n",
       "      <td>0.0</td>\n",
       "      <td>7.07</td>\n",
       "      <td>0</td>\n",
       "      <td>0.469</td>\n",
       "      <td>6.421</td>\n",
       "      <td>78.9</td>\n",
       "      <td>4.9671</td>\n",
       "      <td>2</td>\n",
       "      <td>242.0</td>\n",
       "      <td>17.8</td>\n",
       "      <td>396.90</td>\n",
       "      <td>9.14</td>\n",
       "      <td>21.6</td>\n",
       "    </tr>\n",
       "    <tr>\n",
       "      <th>2</th>\n",
       "      <td>0.02729</td>\n",
       "      <td>0.0</td>\n",
       "      <td>7.07</td>\n",
       "      <td>0</td>\n",
       "      <td>0.469</td>\n",
       "      <td>7.185</td>\n",
       "      <td>61.1</td>\n",
       "      <td>4.9671</td>\n",
       "      <td>2</td>\n",
       "      <td>242.0</td>\n",
       "      <td>17.8</td>\n",
       "      <td>392.83</td>\n",
       "      <td>4.03</td>\n",
       "      <td>34.7</td>\n",
       "    </tr>\n",
       "    <tr>\n",
       "      <th>3</th>\n",
       "      <td>0.03237</td>\n",
       "      <td>0.0</td>\n",
       "      <td>2.18</td>\n",
       "      <td>0</td>\n",
       "      <td>0.458</td>\n",
       "      <td>6.998</td>\n",
       "      <td>45.8</td>\n",
       "      <td>6.0622</td>\n",
       "      <td>3</td>\n",
       "      <td>222.0</td>\n",
       "      <td>18.7</td>\n",
       "      <td>394.63</td>\n",
       "      <td>2.94</td>\n",
       "      <td>33.4</td>\n",
       "    </tr>\n",
       "    <tr>\n",
       "      <th>4</th>\n",
       "      <td>0.06905</td>\n",
       "      <td>0.0</td>\n",
       "      <td>2.18</td>\n",
       "      <td>0</td>\n",
       "      <td>0.458</td>\n",
       "      <td>7.147</td>\n",
       "      <td>54.2</td>\n",
       "      <td>6.0622</td>\n",
       "      <td>3</td>\n",
       "      <td>222.0</td>\n",
       "      <td>18.7</td>\n",
       "      <td>396.90</td>\n",
       "      <td>5.33</td>\n",
       "      <td>36.2</td>\n",
       "    </tr>\n",
       "    <tr>\n",
       "      <th>...</th>\n",
       "      <td>...</td>\n",
       "      <td>...</td>\n",
       "      <td>...</td>\n",
       "      <td>...</td>\n",
       "      <td>...</td>\n",
       "      <td>...</td>\n",
       "      <td>...</td>\n",
       "      <td>...</td>\n",
       "      <td>...</td>\n",
       "      <td>...</td>\n",
       "      <td>...</td>\n",
       "      <td>...</td>\n",
       "      <td>...</td>\n",
       "      <td>...</td>\n",
       "    </tr>\n",
       "    <tr>\n",
       "      <th>501</th>\n",
       "      <td>0.06263</td>\n",
       "      <td>0.0</td>\n",
       "      <td>11.93</td>\n",
       "      <td>0</td>\n",
       "      <td>0.573</td>\n",
       "      <td>6.593</td>\n",
       "      <td>69.1</td>\n",
       "      <td>2.4786</td>\n",
       "      <td>1</td>\n",
       "      <td>273.0</td>\n",
       "      <td>21.0</td>\n",
       "      <td>391.99</td>\n",
       "      <td>9.67</td>\n",
       "      <td>22.4</td>\n",
       "    </tr>\n",
       "    <tr>\n",
       "      <th>502</th>\n",
       "      <td>0.04527</td>\n",
       "      <td>0.0</td>\n",
       "      <td>11.93</td>\n",
       "      <td>0</td>\n",
       "      <td>0.573</td>\n",
       "      <td>6.120</td>\n",
       "      <td>76.7</td>\n",
       "      <td>2.2875</td>\n",
       "      <td>1</td>\n",
       "      <td>273.0</td>\n",
       "      <td>21.0</td>\n",
       "      <td>396.90</td>\n",
       "      <td>9.08</td>\n",
       "      <td>20.6</td>\n",
       "    </tr>\n",
       "    <tr>\n",
       "      <th>503</th>\n",
       "      <td>0.06076</td>\n",
       "      <td>0.0</td>\n",
       "      <td>11.93</td>\n",
       "      <td>0</td>\n",
       "      <td>0.573</td>\n",
       "      <td>6.976</td>\n",
       "      <td>91.0</td>\n",
       "      <td>2.1675</td>\n",
       "      <td>1</td>\n",
       "      <td>273.0</td>\n",
       "      <td>21.0</td>\n",
       "      <td>396.90</td>\n",
       "      <td>5.64</td>\n",
       "      <td>23.9</td>\n",
       "    </tr>\n",
       "    <tr>\n",
       "      <th>504</th>\n",
       "      <td>0.10959</td>\n",
       "      <td>0.0</td>\n",
       "      <td>11.93</td>\n",
       "      <td>0</td>\n",
       "      <td>0.573</td>\n",
       "      <td>6.794</td>\n",
       "      <td>89.3</td>\n",
       "      <td>2.3889</td>\n",
       "      <td>1</td>\n",
       "      <td>273.0</td>\n",
       "      <td>21.0</td>\n",
       "      <td>393.45</td>\n",
       "      <td>6.48</td>\n",
       "      <td>22.0</td>\n",
       "    </tr>\n",
       "    <tr>\n",
       "      <th>505</th>\n",
       "      <td>0.04741</td>\n",
       "      <td>0.0</td>\n",
       "      <td>11.93</td>\n",
       "      <td>0</td>\n",
       "      <td>0.573</td>\n",
       "      <td>6.030</td>\n",
       "      <td>80.8</td>\n",
       "      <td>2.5050</td>\n",
       "      <td>1</td>\n",
       "      <td>273.0</td>\n",
       "      <td>21.0</td>\n",
       "      <td>396.90</td>\n",
       "      <td>7.88</td>\n",
       "      <td>11.9</td>\n",
       "    </tr>\n",
       "  </tbody>\n",
       "</table>\n",
       "<p>506 rows × 14 columns</p>\n",
       "</div>"
      ],
      "text/plain": [
       "        CRIM    ZN  INDUS  CHAS    NOX     RM   AGE     DIS  RAD    TAX  \\\n",
       "0    0.00632  18.0   2.31     0  0.538  6.575  65.2  4.0900    1  296.0   \n",
       "1    0.02731   0.0   7.07     0  0.469  6.421  78.9  4.9671    2  242.0   \n",
       "2    0.02729   0.0   7.07     0  0.469  7.185  61.1  4.9671    2  242.0   \n",
       "3    0.03237   0.0   2.18     0  0.458  6.998  45.8  6.0622    3  222.0   \n",
       "4    0.06905   0.0   2.18     0  0.458  7.147  54.2  6.0622    3  222.0   \n",
       "..       ...   ...    ...   ...    ...    ...   ...     ...  ...    ...   \n",
       "501  0.06263   0.0  11.93     0  0.573  6.593  69.1  2.4786    1  273.0   \n",
       "502  0.04527   0.0  11.93     0  0.573  6.120  76.7  2.2875    1  273.0   \n",
       "503  0.06076   0.0  11.93     0  0.573  6.976  91.0  2.1675    1  273.0   \n",
       "504  0.10959   0.0  11.93     0  0.573  6.794  89.3  2.3889    1  273.0   \n",
       "505  0.04741   0.0  11.93     0  0.573  6.030  80.8  2.5050    1  273.0   \n",
       "\n",
       "     PTRATIO       B  LSTAT  MEDV  \n",
       "0       15.3  396.90   4.98  24.0  \n",
       "1       17.8  396.90   9.14  21.6  \n",
       "2       17.8  392.83   4.03  34.7  \n",
       "3       18.7  394.63   2.94  33.4  \n",
       "4       18.7  396.90   5.33  36.2  \n",
       "..       ...     ...    ...   ...  \n",
       "501     21.0  391.99   9.67  22.4  \n",
       "502     21.0  396.90   9.08  20.6  \n",
       "503     21.0  396.90   5.64  23.9  \n",
       "504     21.0  393.45   6.48  22.0  \n",
       "505     21.0  396.90   7.88  11.9  \n",
       "\n",
       "[506 rows x 14 columns]"
      ]
     },
     "execution_count": 4,
     "metadata": {},
     "output_type": "execute_result"
    }
   ],
   "source": [
    "df"
   ]
  },
  {
   "cell_type": "code",
   "execution_count": 5,
   "id": "9e6666de-926e-477d-8e9b-e83e72f025b7",
   "metadata": {
    "tags": []
   },
   "outputs": [],
   "source": [
    "data=df"
   ]
  },
  {
   "cell_type": "code",
   "execution_count": 6,
   "id": "993521fa-385b-4a95-84e0-e4013576c157",
   "metadata": {
    "tags": []
   },
   "outputs": [],
   "source": [
    "X = df.drop('MEDV', axis=1)  # Replace 'MEDV' if target column has a different name\n",
    "y = df['MEDV']"
   ]
  },
  {
   "cell_type": "code",
   "execution_count": 7,
   "id": "fec8c035-6647-486b-916f-63ce5954ffdb",
   "metadata": {
    "tags": []
   },
   "outputs": [
    {
     "data": {
      "text/plain": [
       "<bound method DataFrame.info of         CRIM    ZN  INDUS  CHAS    NOX     RM   AGE     DIS  RAD    TAX  \\\n",
       "0    0.00632  18.0   2.31     0  0.538  6.575  65.2  4.0900    1  296.0   \n",
       "1    0.02731   0.0   7.07     0  0.469  6.421  78.9  4.9671    2  242.0   \n",
       "2    0.02729   0.0   7.07     0  0.469  7.185  61.1  4.9671    2  242.0   \n",
       "3    0.03237   0.0   2.18     0  0.458  6.998  45.8  6.0622    3  222.0   \n",
       "4    0.06905   0.0   2.18     0  0.458  7.147  54.2  6.0622    3  222.0   \n",
       "..       ...   ...    ...   ...    ...    ...   ...     ...  ...    ...   \n",
       "501  0.06263   0.0  11.93     0  0.573  6.593  69.1  2.4786    1  273.0   \n",
       "502  0.04527   0.0  11.93     0  0.573  6.120  76.7  2.2875    1  273.0   \n",
       "503  0.06076   0.0  11.93     0  0.573  6.976  91.0  2.1675    1  273.0   \n",
       "504  0.10959   0.0  11.93     0  0.573  6.794  89.3  2.3889    1  273.0   \n",
       "505  0.04741   0.0  11.93     0  0.573  6.030  80.8  2.5050    1  273.0   \n",
       "\n",
       "     PTRATIO       B  LSTAT  MEDV  \n",
       "0       15.3  396.90   4.98  24.0  \n",
       "1       17.8  396.90   9.14  21.6  \n",
       "2       17.8  392.83   4.03  34.7  \n",
       "3       18.7  394.63   2.94  33.4  \n",
       "4       18.7  396.90   5.33  36.2  \n",
       "..       ...     ...    ...   ...  \n",
       "501     21.0  391.99   9.67  22.4  \n",
       "502     21.0  396.90   9.08  20.6  \n",
       "503     21.0  396.90   5.64  23.9  \n",
       "504     21.0  393.45   6.48  22.0  \n",
       "505     21.0  396.90   7.88  11.9  \n",
       "\n",
       "[506 rows x 14 columns]>"
      ]
     },
     "execution_count": 7,
     "metadata": {},
     "output_type": "execute_result"
    }
   ],
   "source": [
    "df.info"
   ]
  },
  {
   "cell_type": "code",
   "execution_count": 8,
   "id": "18cf0a8d-a06d-4f68-a2ab-d213c3a4d56d",
   "metadata": {
    "tags": []
   },
   "outputs": [
    {
     "name": "stdout",
     "output_type": "stream",
     "text": [
      "\n",
      "First 10 rows of feature data:\n",
      "      CRIM    ZN  INDUS  CHAS    NOX     RM    AGE     DIS  RAD    TAX  \\\n",
      "0  0.00632  18.0   2.31     0  0.538  6.575   65.2  4.0900    1  296.0   \n",
      "1  0.02731   0.0   7.07     0  0.469  6.421   78.9  4.9671    2  242.0   \n",
      "2  0.02729   0.0   7.07     0  0.469  7.185   61.1  4.9671    2  242.0   \n",
      "3  0.03237   0.0   2.18     0  0.458  6.998   45.8  6.0622    3  222.0   \n",
      "4  0.06905   0.0   2.18     0  0.458  7.147   54.2  6.0622    3  222.0   \n",
      "5  0.02985   0.0   2.18     0  0.458  6.430   58.7  6.0622    3  222.0   \n",
      "6  0.08829  12.5   7.87     0  0.524  6.012   66.6  5.5605    5  311.0   \n",
      "7  0.14455  12.5   7.87     0  0.524  6.172   96.1  5.9505    5  311.0   \n",
      "8  0.21124  12.5   7.87     0  0.524  5.631  100.0  6.0821    5  311.0   \n",
      "9  0.17004  12.5   7.87     0  0.524  6.004   85.9  6.5921    5  311.0   \n",
      "\n",
      "   PTRATIO       B  LSTAT  \n",
      "0     15.3  396.90   4.98  \n",
      "1     17.8  396.90   9.14  \n",
      "2     17.8  392.83   4.03  \n",
      "3     18.7  394.63   2.94  \n",
      "4     18.7  396.90   5.33  \n",
      "5     18.7  394.12   5.21  \n",
      "6     15.2  395.60  12.43  \n",
      "7     15.2  396.90  19.15  \n",
      "8     15.2  386.63  29.93  \n",
      "9     15.2  386.71  17.10  \n"
     ]
    }
   ],
   "source": [
    "print(\"\\nFirst 10 rows of feature data:\")\n",
    "print(X.head(10))"
   ]
  },
  {
   "cell_type": "code",
   "execution_count": 9,
   "id": "236d4a69-249d-435f-8478-0b08e8926a33",
   "metadata": {
    "tags": []
   },
   "outputs": [
    {
     "name": "stdout",
     "output_type": "stream",
     "text": [
      "\n",
      "Feature statistics:\n",
      "             CRIM          ZN       INDUS        CHAS         NOX          RM  \\\n",
      "count  506.000000  506.000000  506.000000  506.000000  506.000000  506.000000   \n",
      "mean     3.613524   11.363636   11.136779    0.069170    0.554695    6.284634   \n",
      "std      8.601545   23.322453    6.860353    0.253994    0.115878    0.702617   \n",
      "min      0.006320    0.000000    0.460000    0.000000    0.385000    3.561000   \n",
      "25%      0.082045    0.000000    5.190000    0.000000    0.449000    5.885500   \n",
      "50%      0.256510    0.000000    9.690000    0.000000    0.538000    6.208500   \n",
      "75%      3.677083   12.500000   18.100000    0.000000    0.624000    6.623500   \n",
      "max     88.976200  100.000000   27.740000    1.000000    0.871000    8.780000   \n",
      "\n",
      "              AGE         DIS         RAD         TAX     PTRATIO           B  \\\n",
      "count  506.000000  506.000000  506.000000  506.000000  506.000000  506.000000   \n",
      "mean    68.574901    3.795043    9.549407  408.237154   18.455534  356.674032   \n",
      "std     28.148861    2.105710    8.707259  168.537116    2.164946   91.294864   \n",
      "min      2.900000    1.129600    1.000000  187.000000   12.600000    0.320000   \n",
      "25%     45.025000    2.100175    4.000000  279.000000   17.400000  375.377500   \n",
      "50%     77.500000    3.207450    5.000000  330.000000   19.050000  391.440000   \n",
      "75%     94.075000    5.188425   24.000000  666.000000   20.200000  396.225000   \n",
      "max    100.000000   12.126500   24.000000  711.000000   22.000000  396.900000   \n",
      "\n",
      "            LSTAT  \n",
      "count  506.000000  \n",
      "mean    12.653063  \n",
      "std      7.141062  \n",
      "min      1.730000  \n",
      "25%      6.950000  \n",
      "50%     11.360000  \n",
      "75%     16.955000  \n",
      "max     37.970000  \n"
     ]
    }
   ],
   "source": [
    "print(\"\\nFeature statistics:\")\n",
    "print(X.describe())"
   ]
  },
  {
   "cell_type": "code",
   "execution_count": 12,
   "id": "09ad9d06-da0f-4f05-9906-bcaa7423e6c5",
   "metadata": {
    "tags": []
   },
   "outputs": [
    {
     "data": {
      "text/plain": [
       "LSTAT     -0.737663\n",
       "PTRATIO   -0.507787\n",
       "INDUS     -0.483725\n",
       "TAX       -0.468536\n",
       "NOX       -0.427321\n",
       "CRIM      -0.388305\n",
       "RAD       -0.381626\n",
       "AGE       -0.376955\n",
       "CHAS       0.175260\n",
       "DIS        0.249929\n",
       "B          0.333461\n",
       "ZN         0.360445\n",
       "RM         0.695360\n",
       "MEDV       1.000000\n",
       "Name: MEDV, dtype: float64"
      ]
     },
     "execution_count": 12,
     "metadata": {},
     "output_type": "execute_result"
    }
   ],
   "source": [
    "df.corr()['MEDV'].sort_values()"
   ]
  },
  {
   "cell_type": "code",
   "execution_count": 13,
   "id": "ebeaacf3-13a6-4d8e-8088-a25544c785de",
   "metadata": {
    "tags": []
   },
   "outputs": [
    {
     "data": {
      "text/plain": [
       "((506, 3), (506,))"
      ]
     },
     "execution_count": 13,
     "metadata": {},
     "output_type": "execute_result"
    }
   ],
   "source": [
    "X = df.loc[:,['LSTAT','PTRATIO','RM']]\n",
    "Y = df.loc[:,\"MEDV\"]\n",
    "X.shape,Y.shape"
   ]
  },
  {
   "cell_type": "code",
   "execution_count": 14,
   "id": "b92f71e7-f267-4845-bc7c-67184f3b328c",
   "metadata": {
    "tags": []
   },
   "outputs": [],
   "source": [
    "x_train,x_test,y_train,y_test = train_test_split(X,Y,test_size=0.25,random_state=10)"
   ]
  },
  {
   "cell_type": "code",
   "execution_count": 17,
   "id": "c6f8b91c-c63e-4964-baa4-435b1a72e2d5",
   "metadata": {
    "tags": []
   },
   "outputs": [],
   "source": [
    "\n",
    "\n",
    "scaler = StandardScaler()\n",
    "\n"
   ]
  },
  {
   "cell_type": "code",
   "execution_count": 18,
   "id": "f06845b3-1803-4ed4-b9a6-fccc89857148",
   "metadata": {
    "tags": []
   },
   "outputs": [
    {
     "data": {
      "text/html": [
       "<style>#sk-container-id-1 {color: black;}#sk-container-id-1 pre{padding: 0;}#sk-container-id-1 div.sk-toggleable {background-color: white;}#sk-container-id-1 label.sk-toggleable__label {cursor: pointer;display: block;width: 100%;margin-bottom: 0;padding: 0.3em;box-sizing: border-box;text-align: center;}#sk-container-id-1 label.sk-toggleable__label-arrow:before {content: \"▸\";float: left;margin-right: 0.25em;color: #696969;}#sk-container-id-1 label.sk-toggleable__label-arrow:hover:before {color: black;}#sk-container-id-1 div.sk-estimator:hover label.sk-toggleable__label-arrow:before {color: black;}#sk-container-id-1 div.sk-toggleable__content {max-height: 0;max-width: 0;overflow: hidden;text-align: left;background-color: #f0f8ff;}#sk-container-id-1 div.sk-toggleable__content pre {margin: 0.2em;color: black;border-radius: 0.25em;background-color: #f0f8ff;}#sk-container-id-1 input.sk-toggleable__control:checked~div.sk-toggleable__content {max-height: 200px;max-width: 100%;overflow: auto;}#sk-container-id-1 input.sk-toggleable__control:checked~label.sk-toggleable__label-arrow:before {content: \"▾\";}#sk-container-id-1 div.sk-estimator input.sk-toggleable__control:checked~label.sk-toggleable__label {background-color: #d4ebff;}#sk-container-id-1 div.sk-label input.sk-toggleable__control:checked~label.sk-toggleable__label {background-color: #d4ebff;}#sk-container-id-1 input.sk-hidden--visually {border: 0;clip: rect(1px 1px 1px 1px);clip: rect(1px, 1px, 1px, 1px);height: 1px;margin: -1px;overflow: hidden;padding: 0;position: absolute;width: 1px;}#sk-container-id-1 div.sk-estimator {font-family: monospace;background-color: #f0f8ff;border: 1px dotted black;border-radius: 0.25em;box-sizing: border-box;margin-bottom: 0.5em;}#sk-container-id-1 div.sk-estimator:hover {background-color: #d4ebff;}#sk-container-id-1 div.sk-parallel-item::after {content: \"\";width: 100%;border-bottom: 1px solid gray;flex-grow: 1;}#sk-container-id-1 div.sk-label:hover label.sk-toggleable__label {background-color: #d4ebff;}#sk-container-id-1 div.sk-serial::before {content: \"\";position: absolute;border-left: 1px solid gray;box-sizing: border-box;top: 0;bottom: 0;left: 50%;z-index: 0;}#sk-container-id-1 div.sk-serial {display: flex;flex-direction: column;align-items: center;background-color: white;padding-right: 0.2em;padding-left: 0.2em;position: relative;}#sk-container-id-1 div.sk-item {position: relative;z-index: 1;}#sk-container-id-1 div.sk-parallel {display: flex;align-items: stretch;justify-content: center;background-color: white;position: relative;}#sk-container-id-1 div.sk-item::before, #sk-container-id-1 div.sk-parallel-item::before {content: \"\";position: absolute;border-left: 1px solid gray;box-sizing: border-box;top: 0;bottom: 0;left: 50%;z-index: -1;}#sk-container-id-1 div.sk-parallel-item {display: flex;flex-direction: column;z-index: 1;position: relative;background-color: white;}#sk-container-id-1 div.sk-parallel-item:first-child::after {align-self: flex-end;width: 50%;}#sk-container-id-1 div.sk-parallel-item:last-child::after {align-self: flex-start;width: 50%;}#sk-container-id-1 div.sk-parallel-item:only-child::after {width: 0;}#sk-container-id-1 div.sk-dashed-wrapped {border: 1px dashed gray;margin: 0 0.4em 0.5em 0.4em;box-sizing: border-box;padding-bottom: 0.4em;background-color: white;}#sk-container-id-1 div.sk-label label {font-family: monospace;font-weight: bold;display: inline-block;line-height: 1.2em;}#sk-container-id-1 div.sk-label-container {text-align: center;}#sk-container-id-1 div.sk-container {/* jupyter's `normalize.less` sets `[hidden] { display: none; }` but bootstrap.min.css set `[hidden] { display: none !important; }` so we also need the `!important` here to be able to override the default hidden behavior on the sphinx rendered scikit-learn.org. See: https://github.com/scikit-learn/scikit-learn/issues/21755 */display: inline-block !important;position: relative;}#sk-container-id-1 div.sk-text-repr-fallback {display: none;}</style><div id=\"sk-container-id-1\" class=\"sk-top-container\"><div class=\"sk-text-repr-fallback\"><pre>StandardScaler()</pre><b>In a Jupyter environment, please rerun this cell to show the HTML representation or trust the notebook. <br />On GitHub, the HTML representation is unable to render, please try loading this page with nbviewer.org.</b></div><div class=\"sk-container\" hidden><div class=\"sk-item\"><div class=\"sk-estimator sk-toggleable\"><input class=\"sk-toggleable__control sk-hidden--visually\" id=\"sk-estimator-id-1\" type=\"checkbox\" checked><label for=\"sk-estimator-id-1\" class=\"sk-toggleable__label sk-toggleable__label-arrow\">StandardScaler</label><div class=\"sk-toggleable__content\"><pre>StandardScaler()</pre></div></div></div></div></div>"
      ],
      "text/plain": [
       "StandardScaler()"
      ]
     },
     "execution_count": 18,
     "metadata": {},
     "output_type": "execute_result"
    }
   ],
   "source": [
    "\n",
    "\n",
    "scaler.fit(x_train)\n",
    "\n"
   ]
  },
  {
   "cell_type": "code",
   "execution_count": 19,
   "id": "9caf6fa9-d842-4f0d-b4bb-dd8315fa4cd7",
   "metadata": {
    "tags": []
   },
   "outputs": [],
   "source": [
    "\n",
    "\n",
    "x_train = scaler.transform(x_train)\n",
    "x_test = scaler.transform(x_test)\n",
    "\n"
   ]
  },
  {
   "cell_type": "code",
   "execution_count": 20,
   "id": "5fb7c3dd-7fe4-47a1-8844-aa6ccb471815",
   "metadata": {
    "tags": []
   },
   "outputs": [],
   "source": [
    "from keras.models import Sequential\n",
    "from keras.layers import Dense"
   ]
  },
  {
   "cell_type": "code",
   "execution_count": 21,
   "id": "0d7ff0d2-0202-4da4-81ef-c4fdb37d3f30",
   "metadata": {
    "tags": []
   },
   "outputs": [],
   "source": [
    "\n",
    "\n",
    "model = Sequential()\n",
    "\n"
   ]
  },
  {
   "cell_type": "code",
   "execution_count": 22,
   "id": "bd2b63eb-d838-4534-b6fc-5629a9d29965",
   "metadata": {
    "tags": []
   },
   "outputs": [
    {
     "name": "stdout",
     "output_type": "stream",
     "text": [
      "Model: \"sequential\"\n",
      "_________________________________________________________________\n",
      " Layer (type)                Output Shape              Param #   \n",
      "=================================================================\n",
      " input (Dense)               (None, 128)               512       \n",
      "                                                                 \n",
      " layer_1 (Dense)             (None, 64)                8256      \n",
      "                                                                 \n",
      " output (Dense)              (None, 1)                 65        \n",
      "                                                                 \n",
      "=================================================================\n",
      "Total params: 8833 (34.50 KB)\n",
      "Trainable params: 8833 (34.50 KB)\n",
      "Non-trainable params: 0 (0.00 Byte)\n",
      "_________________________________________________________________\n"
     ]
    }
   ],
   "source": [
    "model.add(Dense(128,input_shape=(3,),activation='relu',name='input'))\n",
    "model.add(Dense(64,activation='relu',name='layer_1'))\n",
    "model.add(Dense(1,activation='linear',name='output'))\n",
    "model.compile(optimizer='adam', loss='mse', metrics=['mae'])\n",
    "model.summary()"
   ]
  },
  {
   "cell_type": "code",
   "execution_count": 23,
   "id": "4fb91247-f2e0-4c33-8646-3b5c565b2349",
   "metadata": {
    "tags": []
   },
   "outputs": [
    {
     "name": "stdout",
     "output_type": "stream",
     "text": [
      "Epoch 1/100\n",
      "12/12 [==============================] - 2s 36ms/step - loss: 545.6389 - mae: 21.7153 - val_loss: 719.3070 - val_mae: 24.1594\n",
      "Epoch 2/100\n",
      "12/12 [==============================] - 0s 8ms/step - loss: 516.4986 - mae: 21.0682 - val_loss: 683.6697 - val_mae: 23.4253\n",
      "Epoch 3/100\n",
      "12/12 [==============================] - 0s 8ms/step - loss: 478.0524 - mae: 20.2203 - val_loss: 633.9849 - val_mae: 22.3660\n",
      "Epoch 4/100\n",
      "12/12 [==============================] - 0s 7ms/step - loss: 423.8990 - mae: 18.9333 - val_loss: 563.1567 - val_mae: 20.7810\n",
      "Epoch 5/100\n",
      "12/12 [==============================] - 0s 6ms/step - loss: 348.0690 - mae: 17.0089 - val_loss: 470.3728 - val_mae: 18.5414\n",
      "Epoch 6/100\n",
      "12/12 [==============================] - 0s 7ms/step - loss: 251.4218 - mae: 14.3263 - val_loss: 362.5221 - val_mae: 15.9093\n",
      "Epoch 7/100\n",
      "12/12 [==============================] - 0s 7ms/step - loss: 154.9116 - mae: 11.0921 - val_loss: 253.2830 - val_mae: 12.5779\n",
      "Epoch 8/100\n",
      "12/12 [==============================] - 0s 9ms/step - loss: 77.8710 - mae: 7.6310 - val_loss: 172.2269 - val_mae: 9.8511\n",
      "Epoch 9/100\n",
      "12/12 [==============================] - 0s 7ms/step - loss: 43.4616 - mae: 5.3662 - val_loss: 130.6041 - val_mae: 8.1283\n",
      "Epoch 10/100\n",
      "12/12 [==============================] - 0s 8ms/step - loss: 34.8867 - mae: 4.5986 - val_loss: 112.1599 - val_mae: 7.4408\n",
      "Epoch 11/100\n",
      "12/12 [==============================] - 0s 8ms/step - loss: 30.8133 - mae: 4.2017 - val_loss: 102.9446 - val_mae: 7.1461\n",
      "Epoch 12/100\n",
      "12/12 [==============================] - 0s 7ms/step - loss: 27.7639 - mae: 3.9366 - val_loss: 99.0746 - val_mae: 6.9867\n",
      "Epoch 13/100\n",
      "12/12 [==============================] - 0s 8ms/step - loss: 25.6882 - mae: 3.7799 - val_loss: 94.8709 - val_mae: 6.8218\n",
      "Epoch 14/100\n",
      "12/12 [==============================] - 0s 7ms/step - loss: 24.4573 - mae: 3.6720 - val_loss: 91.3757 - val_mae: 6.7210\n",
      "Epoch 15/100\n",
      "12/12 [==============================] - 0s 6ms/step - loss: 23.6140 - mae: 3.5929 - val_loss: 88.8057 - val_mae: 6.6256\n",
      "Epoch 16/100\n",
      "12/12 [==============================] - 0s 7ms/step - loss: 22.6726 - mae: 3.5267 - val_loss: 91.6655 - val_mae: 6.6783\n",
      "Epoch 17/100\n",
      "12/12 [==============================] - 0s 7ms/step - loss: 22.2796 - mae: 3.5035 - val_loss: 90.3896 - val_mae: 6.6297\n",
      "Epoch 18/100\n",
      "12/12 [==============================] - 0s 10ms/step - loss: 21.5944 - mae: 3.4406 - val_loss: 87.0910 - val_mae: 6.5327\n",
      "Epoch 19/100\n",
      "12/12 [==============================] - 0s 7ms/step - loss: 21.0050 - mae: 3.3934 - val_loss: 84.9466 - val_mae: 6.4461\n",
      "Epoch 20/100\n",
      "12/12 [==============================] - 0s 6ms/step - loss: 20.5415 - mae: 3.3514 - val_loss: 84.7150 - val_mae: 6.3644\n",
      "Epoch 21/100\n",
      "12/12 [==============================] - 0s 7ms/step - loss: 20.0964 - mae: 3.3102 - val_loss: 83.3049 - val_mae: 6.2809\n",
      "Epoch 22/100\n",
      "12/12 [==============================] - 0s 6ms/step - loss: 19.6047 - mae: 3.2657 - val_loss: 83.8749 - val_mae: 6.2468\n",
      "Epoch 23/100\n",
      "12/12 [==============================] - 0s 6ms/step - loss: 19.2177 - mae: 3.2298 - val_loss: 83.6770 - val_mae: 6.2118\n",
      "Epoch 24/100\n",
      "12/12 [==============================] - 0s 6ms/step - loss: 18.8547 - mae: 3.2004 - val_loss: 83.8164 - val_mae: 6.1576\n",
      "Epoch 25/100\n",
      "12/12 [==============================] - 0s 8ms/step - loss: 18.5676 - mae: 3.1781 - val_loss: 81.8813 - val_mae: 6.0745\n",
      "Epoch 26/100\n",
      "12/12 [==============================] - 0s 9ms/step - loss: 18.2675 - mae: 3.1562 - val_loss: 79.6225 - val_mae: 5.9890\n",
      "Epoch 27/100\n",
      "12/12 [==============================] - 0s 8ms/step - loss: 18.0226 - mae: 3.1234 - val_loss: 80.5136 - val_mae: 5.9832\n",
      "Epoch 28/100\n",
      "12/12 [==============================] - 0s 8ms/step - loss: 17.6810 - mae: 3.0910 - val_loss: 81.9281 - val_mae: 5.9491\n",
      "Epoch 29/100\n",
      "12/12 [==============================] - 0s 13ms/step - loss: 17.3127 - mae: 3.0682 - val_loss: 80.6971 - val_mae: 5.9036\n",
      "Epoch 30/100\n",
      "12/12 [==============================] - 0s 10ms/step - loss: 17.1218 - mae: 3.0444 - val_loss: 80.8101 - val_mae: 5.9199\n",
      "Epoch 31/100\n",
      "12/12 [==============================] - 0s 11ms/step - loss: 16.9410 - mae: 3.0219 - val_loss: 81.4160 - val_mae: 5.8653\n",
      "Epoch 32/100\n",
      "12/12 [==============================] - 0s 11ms/step - loss: 16.7920 - mae: 2.9903 - val_loss: 81.7530 - val_mae: 5.8545\n",
      "Epoch 33/100\n",
      "12/12 [==============================] - 0s 11ms/step - loss: 16.4355 - mae: 2.9750 - val_loss: 78.8063 - val_mae: 5.7370\n",
      "Epoch 34/100\n",
      "12/12 [==============================] - 0s 9ms/step - loss: 16.3430 - mae: 2.9815 - val_loss: 78.7201 - val_mae: 5.7154\n",
      "Epoch 35/100\n",
      "12/12 [==============================] - 0s 10ms/step - loss: 16.0583 - mae: 2.9628 - val_loss: 79.0765 - val_mae: 5.6859\n",
      "Epoch 36/100\n",
      "12/12 [==============================] - 0s 10ms/step - loss: 16.0016 - mae: 2.9407 - val_loss: 81.6737 - val_mae: 5.7547\n",
      "Epoch 37/100\n",
      "12/12 [==============================] - 0s 8ms/step - loss: 15.7113 - mae: 2.9008 - val_loss: 81.2980 - val_mae: 5.7295\n",
      "Epoch 38/100\n",
      "12/12 [==============================] - 0s 7ms/step - loss: 15.5403 - mae: 2.8985 - val_loss: 79.5228 - val_mae: 5.6450\n",
      "Epoch 39/100\n",
      "12/12 [==============================] - 0s 7ms/step - loss: 15.5081 - mae: 2.9012 - val_loss: 77.9390 - val_mae: 5.5696\n",
      "Epoch 40/100\n",
      "12/12 [==============================] - 0s 9ms/step - loss: 15.3260 - mae: 2.8767 - val_loss: 81.0227 - val_mae: 5.6607\n",
      "Epoch 41/100\n",
      "12/12 [==============================] - 0s 8ms/step - loss: 15.1033 - mae: 2.8449 - val_loss: 80.5187 - val_mae: 5.6214\n",
      "Epoch 42/100\n",
      "12/12 [==============================] - 0s 7ms/step - loss: 14.9946 - mae: 2.8258 - val_loss: 78.7232 - val_mae: 5.5537\n",
      "Epoch 43/100\n",
      "12/12 [==============================] - 0s 9ms/step - loss: 14.8866 - mae: 2.8378 - val_loss: 78.7205 - val_mae: 5.5345\n",
      "Epoch 44/100\n",
      "12/12 [==============================] - 0s 16ms/step - loss: 14.8527 - mae: 2.8269 - val_loss: 80.8691 - val_mae: 5.5814\n",
      "Epoch 45/100\n",
      "12/12 [==============================] - 0s 9ms/step - loss: 14.6430 - mae: 2.8065 - val_loss: 78.4944 - val_mae: 5.4897\n",
      "Epoch 46/100\n",
      "12/12 [==============================] - 0s 10ms/step - loss: 14.4910 - mae: 2.7825 - val_loss: 79.5144 - val_mae: 5.5092\n",
      "Epoch 47/100\n",
      "12/12 [==============================] - 0s 8ms/step - loss: 14.4873 - mae: 2.7695 - val_loss: 79.9725 - val_mae: 5.5062\n",
      "Epoch 48/100\n",
      "12/12 [==============================] - 0s 9ms/step - loss: 14.3325 - mae: 2.7666 - val_loss: 79.8488 - val_mae: 5.4870\n",
      "Epoch 49/100\n",
      "12/12 [==============================] - 0s 7ms/step - loss: 14.2362 - mae: 2.7502 - val_loss: 79.6845 - val_mae: 5.4644\n",
      "Epoch 50/100\n",
      "12/12 [==============================] - 0s 9ms/step - loss: 14.1640 - mae: 2.7407 - val_loss: 79.6491 - val_mae: 5.4645\n",
      "Epoch 51/100\n",
      "12/12 [==============================] - 0s 9ms/step - loss: 14.1483 - mae: 2.7445 - val_loss: 79.4453 - val_mae: 5.4510\n",
      "Epoch 52/100\n",
      "12/12 [==============================] - 0s 7ms/step - loss: 14.0564 - mae: 2.7314 - val_loss: 78.8393 - val_mae: 5.4031\n",
      "Epoch 53/100\n",
      "12/12 [==============================] - 0s 7ms/step - loss: 14.0156 - mae: 2.7279 - val_loss: 83.3555 - val_mae: 5.5434\n",
      "Epoch 54/100\n",
      "12/12 [==============================] - 0s 9ms/step - loss: 14.0130 - mae: 2.7365 - val_loss: 78.8990 - val_mae: 5.4421\n",
      "Epoch 55/100\n",
      "12/12 [==============================] - 0s 9ms/step - loss: 13.8071 - mae: 2.7075 - val_loss: 79.8830 - val_mae: 5.4241\n",
      "Epoch 56/100\n",
      "12/12 [==============================] - 0s 7ms/step - loss: 13.7403 - mae: 2.6785 - val_loss: 80.9811 - val_mae: 5.4207\n",
      "Epoch 57/100\n",
      "12/12 [==============================] - 0s 7ms/step - loss: 13.5945 - mae: 2.6862 - val_loss: 77.4325 - val_mae: 5.4031\n",
      "Epoch 58/100\n",
      "12/12 [==============================] - 0s 6ms/step - loss: 13.7111 - mae: 2.7300 - val_loss: 77.8344 - val_mae: 5.3999\n",
      "Epoch 59/100\n",
      "12/12 [==============================] - 0s 8ms/step - loss: 13.5522 - mae: 2.6787 - val_loss: 80.8182 - val_mae: 5.4549\n",
      "Epoch 60/100\n",
      "12/12 [==============================] - 0s 8ms/step - loss: 13.4981 - mae: 2.6769 - val_loss: 79.4894 - val_mae: 5.4062\n",
      "Epoch 61/100\n",
      "12/12 [==============================] - 0s 6ms/step - loss: 13.3231 - mae: 2.6591 - val_loss: 78.6304 - val_mae: 5.3649\n",
      "Epoch 62/100\n",
      "12/12 [==============================] - 0s 7ms/step - loss: 13.4231 - mae: 2.6801 - val_loss: 79.9588 - val_mae: 5.3759\n",
      "Epoch 63/100\n",
      "12/12 [==============================] - 0s 6ms/step - loss: 13.2510 - mae: 2.6585 - val_loss: 81.1158 - val_mae: 5.3974\n",
      "Epoch 64/100\n",
      "12/12 [==============================] - 0s 8ms/step - loss: 13.2264 - mae: 2.6401 - val_loss: 79.3987 - val_mae: 5.3445\n",
      "Epoch 65/100\n",
      "12/12 [==============================] - 0s 9ms/step - loss: 13.2116 - mae: 2.6335 - val_loss: 77.8187 - val_mae: 5.3066\n",
      "Epoch 66/100\n",
      "12/12 [==============================] - 0s 8ms/step - loss: 12.9965 - mae: 2.6180 - val_loss: 80.8323 - val_mae: 5.3663\n",
      "Epoch 67/100\n",
      "12/12 [==============================] - 0s 8ms/step - loss: 12.9298 - mae: 2.6042 - val_loss: 80.2724 - val_mae: 5.3544\n",
      "Epoch 68/100\n",
      "12/12 [==============================] - 0s 7ms/step - loss: 12.9126 - mae: 2.6001 - val_loss: 78.2526 - val_mae: 5.2982\n",
      "Epoch 69/100\n",
      "12/12 [==============================] - 0s 8ms/step - loss: 12.7765 - mae: 2.5820 - val_loss: 81.1808 - val_mae: 5.3240\n",
      "Epoch 70/100\n",
      "12/12 [==============================] - 0s 9ms/step - loss: 12.8041 - mae: 2.5821 - val_loss: 80.0733 - val_mae: 5.3041\n",
      "Epoch 71/100\n",
      "12/12 [==============================] - 0s 8ms/step - loss: 12.7124 - mae: 2.5699 - val_loss: 80.6933 - val_mae: 5.3194\n",
      "Epoch 72/100\n",
      "12/12 [==============================] - 0s 8ms/step - loss: 12.6254 - mae: 2.5658 - val_loss: 80.5703 - val_mae: 5.3163\n",
      "Epoch 73/100\n",
      "12/12 [==============================] - 0s 9ms/step - loss: 12.5662 - mae: 2.5638 - val_loss: 78.4250 - val_mae: 5.2609\n",
      "Epoch 74/100\n",
      "12/12 [==============================] - 0s 7ms/step - loss: 12.5332 - mae: 2.5562 - val_loss: 80.5807 - val_mae: 5.3168\n",
      "Epoch 75/100\n",
      "12/12 [==============================] - 0s 8ms/step - loss: 12.5770 - mae: 2.5917 - val_loss: 76.8262 - val_mae: 5.2921\n",
      "Epoch 76/100\n",
      "12/12 [==============================] - 0s 7ms/step - loss: 12.5319 - mae: 2.5981 - val_loss: 79.0618 - val_mae: 5.3563\n",
      "Epoch 77/100\n",
      "12/12 [==============================] - 0s 6ms/step - loss: 12.7498 - mae: 2.5896 - val_loss: 81.7004 - val_mae: 5.3681\n",
      "Epoch 78/100\n",
      "12/12 [==============================] - 0s 6ms/step - loss: 12.4822 - mae: 2.5842 - val_loss: 77.6820 - val_mae: 5.2339\n",
      "Epoch 79/100\n",
      "12/12 [==============================] - 0s 7ms/step - loss: 12.3581 - mae: 2.5527 - val_loss: 79.9618 - val_mae: 5.2626\n",
      "Epoch 80/100\n",
      "12/12 [==============================] - 0s 6ms/step - loss: 12.2024 - mae: 2.5196 - val_loss: 81.6008 - val_mae: 5.3007\n",
      "Epoch 81/100\n",
      "12/12 [==============================] - 0s 6ms/step - loss: 12.1991 - mae: 2.5377 - val_loss: 81.0691 - val_mae: 5.2694\n",
      "Epoch 82/100\n",
      "12/12 [==============================] - 0s 6ms/step - loss: 12.1115 - mae: 2.5253 - val_loss: 80.0242 - val_mae: 5.2595\n",
      "Epoch 83/100\n",
      "12/12 [==============================] - 0s 5ms/step - loss: 12.0594 - mae: 2.5062 - val_loss: 79.5193 - val_mae: 5.2416\n",
      "Epoch 84/100\n",
      "12/12 [==============================] - 0s 6ms/step - loss: 12.0174 - mae: 2.5050 - val_loss: 80.3986 - val_mae: 5.2684\n",
      "Epoch 85/100\n",
      "12/12 [==============================] - 0s 6ms/step - loss: 11.9484 - mae: 2.5060 - val_loss: 80.4258 - val_mae: 5.2285\n",
      "Epoch 86/100\n",
      "12/12 [==============================] - 0s 6ms/step - loss: 11.9304 - mae: 2.5016 - val_loss: 81.0900 - val_mae: 5.2510\n",
      "Epoch 87/100\n",
      "12/12 [==============================] - 0s 7ms/step - loss: 11.7776 - mae: 2.4851 - val_loss: 80.4153 - val_mae: 5.2361\n",
      "Epoch 88/100\n",
      "12/12 [==============================] - 0s 8ms/step - loss: 11.7499 - mae: 2.4729 - val_loss: 80.7706 - val_mae: 5.2285\n",
      "Epoch 89/100\n",
      "12/12 [==============================] - 0s 7ms/step - loss: 11.7582 - mae: 2.4687 - val_loss: 80.7383 - val_mae: 5.2075\n",
      "Epoch 90/100\n",
      "12/12 [==============================] - 0s 7ms/step - loss: 11.7381 - mae: 2.4718 - val_loss: 82.3621 - val_mae: 5.2410\n",
      "Epoch 91/100\n",
      "12/12 [==============================] - 0s 7ms/step - loss: 11.6519 - mae: 2.4607 - val_loss: 82.6917 - val_mae: 5.2258\n",
      "Epoch 92/100\n",
      "12/12 [==============================] - 0s 7ms/step - loss: 11.7461 - mae: 2.4817 - val_loss: 83.7728 - val_mae: 5.2533\n",
      "Epoch 93/100\n",
      "12/12 [==============================] - 0s 8ms/step - loss: 11.4758 - mae: 2.4403 - val_loss: 78.5418 - val_mae: 5.1185\n",
      "Epoch 94/100\n",
      "12/12 [==============================] - 0s 7ms/step - loss: 11.4779 - mae: 2.4410 - val_loss: 80.8022 - val_mae: 5.1790\n",
      "Epoch 95/100\n",
      "12/12 [==============================] - 0s 7ms/step - loss: 11.3537 - mae: 2.4574 - val_loss: 83.0118 - val_mae: 5.3038\n",
      "Epoch 96/100\n",
      "12/12 [==============================] - 0s 6ms/step - loss: 11.6375 - mae: 2.4973 - val_loss: 82.3064 - val_mae: 5.2868\n",
      "Epoch 97/100\n",
      "12/12 [==============================] - 0s 7ms/step - loss: 11.4901 - mae: 2.4668 - val_loss: 80.7680 - val_mae: 5.2101\n",
      "Epoch 98/100\n",
      "12/12 [==============================] - 0s 7ms/step - loss: 11.2923 - mae: 2.4307 - val_loss: 82.7833 - val_mae: 5.2034\n",
      "Epoch 99/100\n",
      "12/12 [==============================] - 0s 7ms/step - loss: 11.4279 - mae: 2.4459 - val_loss: 80.5545 - val_mae: 5.1434\n",
      "Epoch 100/100\n",
      "12/12 [==============================] - 0s 8ms/step - loss: 11.1364 - mae: 2.4188 - val_loss: 83.1735 - val_mae: 5.1923\n"
     ]
    },
    {
     "data": {
      "text/plain": [
       "<keras.src.callbacks.History at 0x227ec1d5810>"
      ]
     },
     "execution_count": 23,
     "metadata": {},
     "output_type": "execute_result"
    }
   ],
   "source": [
    "model.fit(x_train,y_train,epochs=100,validation_split=0.05)"
   ]
  },
  {
   "cell_type": "code",
   "execution_count": 24,
   "id": "870aea13-def2-499a-ba6e-eb6e6913b64a",
   "metadata": {
    "tags": []
   },
   "outputs": [
    {
     "name": "stdout",
     "output_type": "stream",
     "text": [
      "4/4 [==============================] - 0s 4ms/step - loss: 23.1340 - mae: 3.1597\n"
     ]
    }
   ],
   "source": [
    "output = model.evaluate(x_test,y_test)"
   ]
  },
  {
   "cell_type": "code",
   "execution_count": 25,
   "id": "b1105b7e-a6d2-4081-9201-737ca0ab69d9",
   "metadata": {
    "tags": []
   },
   "outputs": [
    {
     "name": "stdout",
     "output_type": "stream",
     "text": [
      "Mean Squared Error: 23.1340274810791\n",
      "Mean Absolute Error: 3.159721612930298\n"
     ]
    }
   ],
   "source": [
    "print(f\"Mean Squared Error: {output[0]}\"\n",
    "      ,f\"Mean Absolute Error: {output[1]}\",sep=\"\\n\")"
   ]
  },
  {
   "cell_type": "code",
   "execution_count": 26,
   "id": "b67ef192-d489-472a-9350-6d5496ce6abb",
   "metadata": {
    "tags": []
   },
   "outputs": [
    {
     "name": "stdout",
     "output_type": "stream",
     "text": [
      "4/4 [==============================] - 0s 3ms/step\n"
     ]
    }
   ],
   "source": [
    "y_pred = model.predict(x=x_test)"
   ]
  },
  {
   "cell_type": "code",
   "execution_count": 28,
   "id": "b17fd8cd-3622-4a34-9fe0-3ea6e536bf15",
   "metadata": {
    "tags": []
   },
   "outputs": [
    {
     "data": {
      "text/plain": [
       "array([[24.531403 ],\n",
       "       [30.571045 ],\n",
       "       [26.120218 ],\n",
       "       [27.553053 ],\n",
       "       [20.168846 ],\n",
       "       [16.386955 ],\n",
       "       [41.716927 ],\n",
       "       [14.481337 ],\n",
       "       [18.981688 ],\n",
       "       [42.529156 ],\n",
       "       [17.596273 ],\n",
       "       [26.04146  ],\n",
       "       [21.974623 ],\n",
       "       [31.715368 ],\n",
       "       [30.447918 ],\n",
       "       [51.19996  ],\n",
       "       [26.074648 ],\n",
       "       [19.191044 ],\n",
       "       [20.979582 ],\n",
       "       [19.284063 ],\n",
       "       [33.52401  ],\n",
       "       [15.53543  ],\n",
       "       [21.671124 ],\n",
       "       [25.130613 ],\n",
       "       [36.76535  ],\n",
       "       [20.986286 ],\n",
       "       [17.637497 ],\n",
       "       [16.45162  ],\n",
       "       [42.245773 ],\n",
       "       [10.692363 ],\n",
       "       [35.42881  ],\n",
       "       [31.55699  ],\n",
       "       [25.934734 ],\n",
       "       [23.681532 ],\n",
       "       [15.082169 ],\n",
       "       [19.277775 ],\n",
       "       [ 8.7014065],\n",
       "       [31.927916 ],\n",
       "       [24.470629 ],\n",
       "       [23.91102  ],\n",
       "       [38.670227 ],\n",
       "       [25.812822 ],\n",
       "       [13.696704 ],\n",
       "       [29.226469 ],\n",
       "       [16.564777 ],\n",
       "       [26.755548 ],\n",
       "       [17.687914 ],\n",
       "       [18.415634 ],\n",
       "       [43.655373 ],\n",
       "       [16.074715 ],\n",
       "       [20.345566 ],\n",
       "       [14.424532 ],\n",
       "       [19.854239 ],\n",
       "       [38.811085 ],\n",
       "       [24.477856 ],\n",
       "       [35.179863 ],\n",
       "       [18.894403 ],\n",
       "       [18.77965  ],\n",
       "       [22.286543 ],\n",
       "       [22.075853 ],\n",
       "       [18.675114 ],\n",
       "       [20.244272 ],\n",
       "       [50.47164  ],\n",
       "       [55.207634 ],\n",
       "       [27.421938 ],\n",
       "       [14.82117  ],\n",
       "       [24.661936 ],\n",
       "       [11.789054 ],\n",
       "       [26.899973 ],\n",
       "       [39.90432  ],\n",
       "       [16.40525  ],\n",
       "       [28.007685 ],\n",
       "       [17.476873 ],\n",
       "       [21.57526  ],\n",
       "       [21.77692  ],\n",
       "       [11.476405 ],\n",
       "       [47.506493 ],\n",
       "       [ 9.470503 ],\n",
       "       [19.645578 ],\n",
       "       [32.605095 ],\n",
       "       [19.79244  ],\n",
       "       [25.374205 ],\n",
       "       [19.42679  ],\n",
       "       [24.402552 ],\n",
       "       [30.760204 ],\n",
       "       [26.021683 ],\n",
       "       [25.890085 ],\n",
       "       [34.35219  ],\n",
       "       [24.4689   ],\n",
       "       [10.920042 ],\n",
       "       [23.539503 ],\n",
       "       [20.571583 ],\n",
       "       [23.282854 ],\n",
       "       [24.777765 ],\n",
       "       [18.401075 ],\n",
       "       [18.206175 ],\n",
       "       [25.6115   ],\n",
       "       [18.483027 ],\n",
       "       [21.072521 ],\n",
       "       [18.72706  ],\n",
       "       [21.31658  ],\n",
       "       [19.885813 ],\n",
       "       [18.778572 ],\n",
       "       [23.934034 ],\n",
       "       [13.337375 ],\n",
       "       [20.374472 ],\n",
       "       [18.745378 ],\n",
       "       [15.0714245],\n",
       "       [28.281776 ],\n",
       "       [23.115967 ],\n",
       "       [11.387537 ],\n",
       "       [17.616346 ],\n",
       "       [24.33034  ],\n",
       "       [24.260653 ],\n",
       "       [21.458967 ],\n",
       "       [13.496818 ],\n",
       "       [13.624335 ],\n",
       "       [20.078196 ],\n",
       "       [18.214556 ],\n",
       "       [19.882915 ],\n",
       "       [29.990473 ],\n",
       "       [35.06312  ],\n",
       "       [20.393375 ],\n",
       "       [16.651484 ],\n",
       "       [17.21384  ],\n",
       "       [23.25378  ],\n",
       "       [12.464287 ]], dtype=float32)"
      ]
     },
     "execution_count": 28,
     "metadata": {},
     "output_type": "execute_result"
    }
   ],
   "source": [
    "y_pred"
   ]
  },
  {
   "cell_type": "code",
   "execution_count": 29,
   "id": "02869baf-ca12-4ac7-aeb8-d0340a453f68",
   "metadata": {
    "tags": []
   },
   "outputs": [
    {
     "data": {
      "image/png": "[encoded data removed]",
      "text/plain": [
       "<Figure size 640x480 with 1 Axes>"
      ]
     },
     "metadata": {},
     "output_type": "display_data"
    }
   ],
   "source": [
    "\n",
    "\n",
    "# Plot Predicted vs Actual values in scaled form\n",
    "plt.scatter(y_test, y_pred, alpha=0.7)\n",
    "plt.plot([min(y_test), max(y_test)], [min(y_test), max(y_test)], color='red', lw=2)  # Line for perfect prediction\n",
    "plt.xlabel(\"Scaled Actual Prices\")\n",
    "plt.ylabel(\"Scaled Predicted Prices\")\n",
    "plt.title(\"Predicted vs Actual Prices (Scaled)\")\n",
    "plt.show()\n"
   ]
  },
  {
   "cell_type": "code",
   "execution_count": null,
   "id": "c1d2a519-4354-412b-98ff-6da9f5c7cfc2",
   "metadata": {},
   "outputs": [],
   "source": []
  }
 ],
 "metadata": {
  "kernelspec": {
   "display_name": "Python 3 (ipykernel)",
   "language": "python",
   "name": "python3"
  },
  "language_info": {
   "codemirror_mode": {
    "name": "ipython",
    "version": 3
   },
   "file_extension": ".py",
   "mimetype": "text/x-python",
   "name": "python",
   "nbconvert_exporter": "python",
   "pygments_lexer": "ipython3",
   "version": "3.11.5"
  }
 },
 "nbformat": 4,
 "nbformat_minor": 5
}
